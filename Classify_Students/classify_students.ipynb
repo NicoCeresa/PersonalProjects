{
 "cells": [
  {
   "cell_type": "code",
   "execution_count": 1,
   "id": "4f75a937",
   "metadata": {
    "_cell_guid": "b1076dfc-b9ad-4769-8c92-a6c4dae69d19",
    "_uuid": "8f2839f25d086af736a60e9eeb907d3b93b6e0e5",
    "execution": {
     "iopub.execute_input": "2022-08-19T20:43:01.809478Z",
     "iopub.status.busy": "2022-08-19T20:43:01.808972Z",
     "iopub.status.idle": "2022-08-19T20:43:02.962840Z",
     "shell.execute_reply": "2022-08-19T20:43:02.961469Z"
    },
    "papermill": {
     "duration": 1.166586,
     "end_time": "2022-08-19T20:43:02.965951",
     "exception": false,
     "start_time": "2022-08-19T20:43:01.799365",
     "status": "completed"
    },
    "tags": []
   },
   "outputs": [
    {
     "name": "stdout",
     "output_type": "stream",
     "text": [
      "/kaggle/input/scores/scores.csv\n"
     ]
    }
   ],
   "source": [
    "import numpy as np # linear algebra\n",
    "import pandas as pd # data processing, CSV file I/O (e.g. pd.read_csv)\n",
    "import seaborn as sns\n",
    "import matplotlib.pyplot as plt\n",
    "\n",
    "import os\n",
    "for dirname, _, filenames in os.walk('/kaggle/input'):\n",
    "    for filename in filenames:\n",
    "        print(os.path.join(dirname, filename))\n"
   ]
  },
  {
   "cell_type": "code",
   "execution_count": 2,
   "id": "144ec4ec",
   "metadata": {
    "execution": {
     "iopub.execute_input": "2022-08-19T20:43:02.982051Z",
     "iopub.status.busy": "2022-08-19T20:43:02.981612Z",
     "iopub.status.idle": "2022-08-19T20:43:03.015630Z",
     "shell.execute_reply": "2022-08-19T20:43:03.014288Z"
    },
    "papermill": {
     "duration": 0.045083,
     "end_time": "2022-08-19T20:43:03.018222",
     "exception": false,
     "start_time": "2022-08-19T20:43:02.973139",
     "status": "completed"
    },
    "tags": []
   },
   "outputs": [
    {
     "data": {
      "text/html": [
       "<div>\n",
       "<style scoped>\n",
       "    .dataframe tbody tr th:only-of-type {\n",
       "        vertical-align: middle;\n",
       "    }\n",
       "\n",
       "    .dataframe tbody tr th {\n",
       "        vertical-align: top;\n",
       "    }\n",
       "\n",
       "    .dataframe thead th {\n",
       "        text-align: right;\n",
       "    }\n",
       "</style>\n",
       "<table border=\"1\" class=\"dataframe\">\n",
       "  <thead>\n",
       "    <tr style=\"text-align: right;\">\n",
       "      <th></th>\n",
       "      <th>Python</th>\n",
       "      <th>Sql</th>\n",
       "      <th>ML</th>\n",
       "      <th>Tableau</th>\n",
       "      <th>Excel</th>\n",
       "      <th>Student Placed</th>\n",
       "    </tr>\n",
       "  </thead>\n",
       "  <tbody>\n",
       "    <tr>\n",
       "      <th>0</th>\n",
       "      <td>0.80</td>\n",
       "      <td>0.57</td>\n",
       "      <td>0.63</td>\n",
       "      <td>0.50</td>\n",
       "      <td>0.34</td>\n",
       "      <td>Yes</td>\n",
       "    </tr>\n",
       "    <tr>\n",
       "      <th>1</th>\n",
       "      <td>0.81</td>\n",
       "      <td>0.90</td>\n",
       "      <td>0.62</td>\n",
       "      <td>0.71</td>\n",
       "      <td>0.92</td>\n",
       "      <td>No</td>\n",
       "    </tr>\n",
       "    <tr>\n",
       "      <th>2</th>\n",
       "      <td>0.49</td>\n",
       "      <td>0.69</td>\n",
       "      <td>0.62</td>\n",
       "      <td>0.64</td>\n",
       "      <td>0.41</td>\n",
       "      <td>No</td>\n",
       "    </tr>\n",
       "    <tr>\n",
       "      <th>3</th>\n",
       "      <td>0.40</td>\n",
       "      <td>0.94</td>\n",
       "      <td>0.60</td>\n",
       "      <td>0.26</td>\n",
       "      <td>0.47</td>\n",
       "      <td>No</td>\n",
       "    </tr>\n",
       "    <tr>\n",
       "      <th>4</th>\n",
       "      <td>0.31</td>\n",
       "      <td>0.87</td>\n",
       "      <td>1.00</td>\n",
       "      <td>0.23</td>\n",
       "      <td>0.99</td>\n",
       "      <td>No</td>\n",
       "    </tr>\n",
       "  </tbody>\n",
       "</table>\n",
       "</div>"
      ],
      "text/plain": [
       "   Python   Sql    ML  Tableau  Excel Student Placed\n",
       "0    0.80  0.57  0.63     0.50   0.34            Yes\n",
       "1    0.81  0.90  0.62     0.71   0.92             No\n",
       "2    0.49  0.69  0.62     0.64   0.41             No\n",
       "3    0.40  0.94  0.60     0.26   0.47             No\n",
       "4    0.31  0.87  1.00     0.23   0.99             No"
      ]
     },
     "execution_count": 2,
     "metadata": {},
     "output_type": "execute_result"
    }
   ],
   "source": [
    "data = pd.read_csv('../input/scores/scores.csv')\n",
    "data.head()"
   ]
  },
  {
   "cell_type": "code",
   "execution_count": 3,
   "id": "b63a13c3",
   "metadata": {
    "execution": {
     "iopub.execute_input": "2022-08-19T20:43:03.034748Z",
     "iopub.status.busy": "2022-08-19T20:43:03.034026Z",
     "iopub.status.idle": "2022-08-19T20:43:03.074138Z",
     "shell.execute_reply": "2022-08-19T20:43:03.072838Z"
    },
    "papermill": {
     "duration": 0.051529,
     "end_time": "2022-08-19T20:43:03.077229",
     "exception": false,
     "start_time": "2022-08-19T20:43:03.025700",
     "status": "completed"
    },
    "tags": []
   },
   "outputs": [
    {
     "data": {
      "text/html": [
       "<div>\n",
       "<style scoped>\n",
       "    .dataframe tbody tr th:only-of-type {\n",
       "        vertical-align: middle;\n",
       "    }\n",
       "\n",
       "    .dataframe tbody tr th {\n",
       "        vertical-align: top;\n",
       "    }\n",
       "\n",
       "    .dataframe thead th {\n",
       "        text-align: right;\n",
       "    }\n",
       "</style>\n",
       "<table border=\"1\" class=\"dataframe\">\n",
       "  <thead>\n",
       "    <tr style=\"text-align: right;\">\n",
       "      <th></th>\n",
       "      <th>Python</th>\n",
       "      <th>Sql</th>\n",
       "      <th>ML</th>\n",
       "      <th>Tableau</th>\n",
       "      <th>Excel</th>\n",
       "    </tr>\n",
       "  </thead>\n",
       "  <tbody>\n",
       "    <tr>\n",
       "      <th>count</th>\n",
       "      <td>200.000000</td>\n",
       "      <td>200.000000</td>\n",
       "      <td>200.000000</td>\n",
       "      <td>200.000000</td>\n",
       "      <td>200.000000</td>\n",
       "    </tr>\n",
       "    <tr>\n",
       "      <th>mean</th>\n",
       "      <td>0.514100</td>\n",
       "      <td>0.495850</td>\n",
       "      <td>0.514350</td>\n",
       "      <td>0.495150</td>\n",
       "      <td>0.474950</td>\n",
       "    </tr>\n",
       "    <tr>\n",
       "      <th>std</th>\n",
       "      <td>0.305749</td>\n",
       "      <td>0.290694</td>\n",
       "      <td>0.285211</td>\n",
       "      <td>0.292463</td>\n",
       "      <td>0.281686</td>\n",
       "    </tr>\n",
       "    <tr>\n",
       "      <th>min</th>\n",
       "      <td>0.000000</td>\n",
       "      <td>0.010000</td>\n",
       "      <td>0.000000</td>\n",
       "      <td>0.010000</td>\n",
       "      <td>0.000000</td>\n",
       "    </tr>\n",
       "    <tr>\n",
       "      <th>25%</th>\n",
       "      <td>0.237500</td>\n",
       "      <td>0.227500</td>\n",
       "      <td>0.267500</td>\n",
       "      <td>0.240000</td>\n",
       "      <td>0.227500</td>\n",
       "    </tr>\n",
       "    <tr>\n",
       "      <th>50%</th>\n",
       "      <td>0.545000</td>\n",
       "      <td>0.490000</td>\n",
       "      <td>0.540000</td>\n",
       "      <td>0.500000</td>\n",
       "      <td>0.485000</td>\n",
       "    </tr>\n",
       "    <tr>\n",
       "      <th>75%</th>\n",
       "      <td>0.800000</td>\n",
       "      <td>0.740000</td>\n",
       "      <td>0.770000</td>\n",
       "      <td>0.740000</td>\n",
       "      <td>0.702500</td>\n",
       "    </tr>\n",
       "    <tr>\n",
       "      <th>max</th>\n",
       "      <td>1.000000</td>\n",
       "      <td>1.000000</td>\n",
       "      <td>1.000000</td>\n",
       "      <td>1.000000</td>\n",
       "      <td>0.990000</td>\n",
       "    </tr>\n",
       "  </tbody>\n",
       "</table>\n",
       "</div>"
      ],
      "text/plain": [
       "           Python         Sql          ML     Tableau       Excel\n",
       "count  200.000000  200.000000  200.000000  200.000000  200.000000\n",
       "mean     0.514100    0.495850    0.514350    0.495150    0.474950\n",
       "std      0.305749    0.290694    0.285211    0.292463    0.281686\n",
       "min      0.000000    0.010000    0.000000    0.010000    0.000000\n",
       "25%      0.237500    0.227500    0.267500    0.240000    0.227500\n",
       "50%      0.545000    0.490000    0.540000    0.500000    0.485000\n",
       "75%      0.800000    0.740000    0.770000    0.740000    0.702500\n",
       "max      1.000000    1.000000    1.000000    1.000000    0.990000"
      ]
     },
     "execution_count": 3,
     "metadata": {},
     "output_type": "execute_result"
    }
   ],
   "source": [
    "data.describe()"
   ]
  },
  {
   "cell_type": "markdown",
   "id": "a81154df",
   "metadata": {
    "papermill": {
     "duration": 0.006664,
     "end_time": "2022-08-19T20:43:03.091256",
     "exception": false,
     "start_time": "2022-08-19T20:43:03.084592",
     "status": "completed"
    },
    "tags": []
   },
   "source": [
    "Checking if there are any null values"
   ]
  },
  {
   "cell_type": "code",
   "execution_count": 4,
   "id": "75baab3b",
   "metadata": {
    "execution": {
     "iopub.execute_input": "2022-08-19T20:43:03.106891Z",
     "iopub.status.busy": "2022-08-19T20:43:03.106510Z",
     "iopub.status.idle": "2022-08-19T20:43:03.123011Z",
     "shell.execute_reply": "2022-08-19T20:43:03.121261Z"
    },
    "papermill": {
     "duration": 0.027197,
     "end_time": "2022-08-19T20:43:03.125294",
     "exception": false,
     "start_time": "2022-08-19T20:43:03.098097",
     "status": "completed"
    },
    "tags": []
   },
   "outputs": [
    {
     "name": "stdout",
     "output_type": "stream",
     "text": [
      "<class 'pandas.core.frame.DataFrame'>\n",
      "RangeIndex: 200 entries, 0 to 199\n",
      "Data columns (total 6 columns):\n",
      " #   Column          Non-Null Count  Dtype  \n",
      "---  ------          --------------  -----  \n",
      " 0   Python          200 non-null    float64\n",
      " 1   Sql             200 non-null    float64\n",
      " 2   ML              200 non-null    float64\n",
      " 3   Tableau         200 non-null    float64\n",
      " 4   Excel           200 non-null    float64\n",
      " 5   Student Placed  200 non-null    object \n",
      "dtypes: float64(5), object(1)\n",
      "memory usage: 9.5+ KB\n"
     ]
    }
   ],
   "source": [
    "data.info()"
   ]
  },
  {
   "cell_type": "markdown",
   "id": "f04c2917",
   "metadata": {
    "papermill": {
     "duration": 0.006877,
     "end_time": "2022-08-19T20:43:03.139473",
     "exception": false,
     "start_time": "2022-08-19T20:43:03.132596",
     "status": "completed"
    },
    "tags": []
   },
   "source": [
    "### rename Student Placement column"
   ]
  },
  {
   "cell_type": "code",
   "execution_count": 5,
   "id": "1878d113",
   "metadata": {
    "execution": {
     "iopub.execute_input": "2022-08-19T20:43:03.155687Z",
     "iopub.status.busy": "2022-08-19T20:43:03.155257Z",
     "iopub.status.idle": "2022-08-19T20:43:03.171355Z",
     "shell.execute_reply": "2022-08-19T20:43:03.170187Z"
    },
    "papermill": {
     "duration": 0.026868,
     "end_time": "2022-08-19T20:43:03.173425",
     "exception": false,
     "start_time": "2022-08-19T20:43:03.146557",
     "status": "completed"
    },
    "tags": []
   },
   "outputs": [
    {
     "data": {
      "text/html": [
       "<div>\n",
       "<style scoped>\n",
       "    .dataframe tbody tr th:only-of-type {\n",
       "        vertical-align: middle;\n",
       "    }\n",
       "\n",
       "    .dataframe tbody tr th {\n",
       "        vertical-align: top;\n",
       "    }\n",
       "\n",
       "    .dataframe thead th {\n",
       "        text-align: right;\n",
       "    }\n",
       "</style>\n",
       "<table border=\"1\" class=\"dataframe\">\n",
       "  <thead>\n",
       "    <tr style=\"text-align: right;\">\n",
       "      <th></th>\n",
       "      <th>Python</th>\n",
       "      <th>Sql</th>\n",
       "      <th>ML</th>\n",
       "      <th>Tableau</th>\n",
       "      <th>Excel</th>\n",
       "      <th>student_placed</th>\n",
       "    </tr>\n",
       "  </thead>\n",
       "  <tbody>\n",
       "    <tr>\n",
       "      <th>0</th>\n",
       "      <td>0.80</td>\n",
       "      <td>0.57</td>\n",
       "      <td>0.63</td>\n",
       "      <td>0.50</td>\n",
       "      <td>0.34</td>\n",
       "      <td>Yes</td>\n",
       "    </tr>\n",
       "    <tr>\n",
       "      <th>1</th>\n",
       "      <td>0.81</td>\n",
       "      <td>0.90</td>\n",
       "      <td>0.62</td>\n",
       "      <td>0.71</td>\n",
       "      <td>0.92</td>\n",
       "      <td>No</td>\n",
       "    </tr>\n",
       "    <tr>\n",
       "      <th>2</th>\n",
       "      <td>0.49</td>\n",
       "      <td>0.69</td>\n",
       "      <td>0.62</td>\n",
       "      <td>0.64</td>\n",
       "      <td>0.41</td>\n",
       "      <td>No</td>\n",
       "    </tr>\n",
       "    <tr>\n",
       "      <th>3</th>\n",
       "      <td>0.40</td>\n",
       "      <td>0.94</td>\n",
       "      <td>0.60</td>\n",
       "      <td>0.26</td>\n",
       "      <td>0.47</td>\n",
       "      <td>No</td>\n",
       "    </tr>\n",
       "    <tr>\n",
       "      <th>4</th>\n",
       "      <td>0.31</td>\n",
       "      <td>0.87</td>\n",
       "      <td>1.00</td>\n",
       "      <td>0.23</td>\n",
       "      <td>0.99</td>\n",
       "      <td>No</td>\n",
       "    </tr>\n",
       "  </tbody>\n",
       "</table>\n",
       "</div>"
      ],
      "text/plain": [
       "   Python   Sql    ML  Tableau  Excel student_placed\n",
       "0    0.80  0.57  0.63     0.50   0.34            Yes\n",
       "1    0.81  0.90  0.62     0.71   0.92             No\n",
       "2    0.49  0.69  0.62     0.64   0.41             No\n",
       "3    0.40  0.94  0.60     0.26   0.47             No\n",
       "4    0.31  0.87  1.00     0.23   0.99             No"
      ]
     },
     "execution_count": 5,
     "metadata": {},
     "output_type": "execute_result"
    }
   ],
   "source": [
    "df = data.rename(columns={'Student Placed':'student_placed'})\n",
    "df.head()"
   ]
  },
  {
   "cell_type": "markdown",
   "id": "6f089608",
   "metadata": {
    "papermill": {
     "duration": 0.006917,
     "end_time": "2022-08-19T20:43:03.187552",
     "exception": false,
     "start_time": "2022-08-19T20:43:03.180635",
     "status": "completed"
    },
    "tags": []
   },
   "source": [
    "### Change the yes and no in the Student Placed column to 1 and 0"
   ]
  },
  {
   "cell_type": "code",
   "execution_count": 6,
   "id": "12cd07a3",
   "metadata": {
    "execution": {
     "iopub.execute_input": "2022-08-19T20:43:03.204362Z",
     "iopub.status.busy": "2022-08-19T20:43:03.203961Z",
     "iopub.status.idle": "2022-08-19T20:43:03.354999Z",
     "shell.execute_reply": "2022-08-19T20:43:03.354055Z"
    },
    "papermill": {
     "duration": 0.162468,
     "end_time": "2022-08-19T20:43:03.357463",
     "exception": false,
     "start_time": "2022-08-19T20:43:03.194995",
     "status": "completed"
    },
    "tags": []
   },
   "outputs": [],
   "source": [
    "from sklearn.preprocessing import LabelEncoder\n",
    "\n",
    "le = LabelEncoder()\n",
    "df['student_placed'] = le.fit_transform(df['student_placed'])"
   ]
  },
  {
   "cell_type": "markdown",
   "id": "7ef8aa62",
   "metadata": {
    "papermill": {
     "duration": 0.00686,
     "end_time": "2022-08-19T20:43:03.372499",
     "exception": false,
     "start_time": "2022-08-19T20:43:03.365639",
     "status": "completed"
    },
    "tags": []
   },
   "source": [
    "No NaN values so I can continue without imputing"
   ]
  },
  {
   "cell_type": "code",
   "execution_count": 7,
   "id": "9607a8be",
   "metadata": {
    "execution": {
     "iopub.execute_input": "2022-08-19T20:43:03.388591Z",
     "iopub.status.busy": "2022-08-19T20:43:03.388132Z",
     "iopub.status.idle": "2022-08-19T20:43:03.624193Z",
     "shell.execute_reply": "2022-08-19T20:43:03.623226Z"
    },
    "papermill": {
     "duration": 0.24676,
     "end_time": "2022-08-19T20:43:03.626331",
     "exception": false,
     "start_time": "2022-08-19T20:43:03.379571",
     "status": "completed"
    },
    "tags": []
   },
   "outputs": [
    {
     "data": {
      "text/plain": [
       "1    116\n",
       "0     84\n",
       "Name: student_placed, dtype: int64"
      ]
     },
     "execution_count": 7,
     "metadata": {},
     "output_type": "execute_result"
    },
    {
     "data": {
      "image/png": "[encoded data removed]",
      "text/plain": [
       "<Figure size 432x288 with 1 Axes>"
      ]
     },
     "metadata": {},
     "output_type": "display_data"
    }
   ],
   "source": [
    "sns.set_theme(style=\"whitegrid\")\n",
    "sns.countplot(x = df['student_placed'], palette=\"Set3\", saturation = 1)\n",
    "df['student_placed'].value_counts()"
   ]
  },
  {
   "cell_type": "code",
   "execution_count": 8,
   "id": "4b6a9044",
   "metadata": {
    "execution": {
     "iopub.execute_input": "2022-08-19T20:43:03.643679Z",
     "iopub.status.busy": "2022-08-19T20:43:03.643231Z",
     "iopub.status.idle": "2022-08-19T20:43:03.940947Z",
     "shell.execute_reply": "2022-08-19T20:43:03.939484Z"
    },
    "papermill": {
     "duration": 0.309653,
     "end_time": "2022-08-19T20:43:03.943818",
     "exception": false,
     "start_time": "2022-08-19T20:43:03.634165",
     "status": "completed"
    },
    "tags": []
   },
   "outputs": [
    {
     "data": {
      "text/plain": [
       "<AxesSubplot:>"
      ]
     },
     "execution_count": 8,
     "metadata": {},
     "output_type": "execute_result"
    },
    {
     "data": {
      "image/png": "[encoded data removed]",
      "text/plain": [
       "<Figure size 576x432 with 1 Axes>"
      ]
     },
     "metadata": {},
     "output_type": "display_data"
    }
   ],
   "source": [
    "plt.figure(figsize = (8,6))\n",
    "corr = df.corr()\n",
    "sns.heatmap(corr,annot = True,cbar = False, cmap = 'icefire')"
   ]
  },
  {
   "cell_type": "markdown",
   "id": "f3e06868",
   "metadata": {
    "papermill": {
     "duration": 0.008375,
     "end_time": "2022-08-19T20:43:03.960960",
     "exception": false,
     "start_time": "2022-08-19T20:43:03.952585",
     "status": "completed"
    },
    "tags": []
   },
   "source": [
    "There looks to be an imbalance in the outcomes"
   ]
  },
  {
   "cell_type": "code",
   "execution_count": 9,
   "id": "29ea081e",
   "metadata": {
    "execution": {
     "iopub.execute_input": "2022-08-19T20:43:03.979903Z",
     "iopub.status.busy": "2022-08-19T20:43:03.979485Z",
     "iopub.status.idle": "2022-08-19T20:43:03.988682Z",
     "shell.execute_reply": "2022-08-19T20:43:03.987647Z"
    },
    "papermill": {
     "duration": 0.021459,
     "end_time": "2022-08-19T20:43:03.990962",
     "exception": false,
     "start_time": "2022-08-19T20:43:03.969503",
     "status": "completed"
    },
    "tags": []
   },
   "outputs": [],
   "source": [
    "from sklearn.utils import resample\n",
    "\n",
    "data_major = df[(df['student_placed']==1)]\n",
    "data_minor = df[(df['student_placed']==0)]\n",
    "upsample = resample(data_minor,\n",
    "                    replace = True,\n",
    "                    n_samples = 116,\n",
    "                    random_state= 42)\n",
    "df2 = pd.concat([upsample, data_major])"
   ]
  },
  {
   "cell_type": "markdown",
   "id": "a55db457",
   "metadata": {
    "papermill": {
     "duration": 0.008679,
     "end_time": "2022-08-19T20:43:04.008170",
     "exception": false,
     "start_time": "2022-08-19T20:43:03.999491",
     "status": "completed"
    },
    "tags": []
   },
   "source": [
    "Now lets check again"
   ]
  },
  {
   "cell_type": "code",
   "execution_count": 10,
   "id": "f4623e29",
   "metadata": {
    "execution": {
     "iopub.execute_input": "2022-08-19T20:43:04.027725Z",
     "iopub.status.busy": "2022-08-19T20:43:04.026991Z",
     "iopub.status.idle": "2022-08-19T20:43:04.216489Z",
     "shell.execute_reply": "2022-08-19T20:43:04.215270Z"
    },
    "papermill": {
     "duration": 0.202483,
     "end_time": "2022-08-19T20:43:04.219205",
     "exception": false,
     "start_time": "2022-08-19T20:43:04.016722",
     "status": "completed"
    },
    "tags": []
   },
   "outputs": [
    {
     "data": {
      "text/plain": [
       "0    116\n",
       "1    116\n",
       "Name: student_placed, dtype: int64"
      ]
     },
     "execution_count": 10,
     "metadata": {},
     "output_type": "execute_result"
    },
    {
     "data": {
      "image/png": "[encoded data removed]",
      "text/plain": [
       "<Figure size 432x288 with 1 Axes>"
      ]
     },
     "metadata": {},
     "output_type": "display_data"
    }
   ],
   "source": [
    "sns.set_theme(style=\"whitegrid\")\n",
    "sns.countplot(x = df2['student_placed'], palette=\"Set3\", saturation = 1)\n",
    "df2['student_placed'].value_counts()"
   ]
  },
  {
   "cell_type": "code",
   "execution_count": 11,
   "id": "b2f6016f",
   "metadata": {
    "execution": {
     "iopub.execute_input": "2022-08-19T20:43:04.240196Z",
     "iopub.status.busy": "2022-08-19T20:43:04.239752Z",
     "iopub.status.idle": "2022-08-19T20:43:04.931190Z",
     "shell.execute_reply": "2022-08-19T20:43:04.929769Z"
    },
    "papermill": {
     "duration": 0.704658,
     "end_time": "2022-08-19T20:43:04.933721",
     "exception": false,
     "start_time": "2022-08-19T20:43:04.229063",
     "status": "completed"
    },
    "tags": []
   },
   "outputs": [
    {
     "data": {
      "text/plain": [
       "<Figure size 720x720 with 0 Axes>"
      ]
     },
     "metadata": {},
     "output_type": "display_data"
    },
    {
     "data": {
      "image/png": "[encoded data removed]",
      "text/plain": [
       "<Figure size 1152x504 with 2 Axes>"
      ]
     },
     "metadata": {},
     "output_type": "display_data"
    }
   ],
   "source": [
    "plt.figure(figsize = (10,10))\n",
    "corr2 = df2.corr()\n",
    "\n",
    "fig, ax = plt.subplots(nrows=1, ncols=2, figsize=(16,7))\n",
    "ax1 = sns.heatmap(corr,annot=True, cbar = False, cmap = 'icefire', ax=ax[0])\n",
    "ax2 = sns.heatmap(corr2,annot=True, cbar = False, cmap = 'icefire', ax=ax[1])\n",
    "ax1.set_title('Imbalanced', fontsize=20)\n",
    "ax2.set_title('Balanced', fontsize=20)\n",
    "fig.show()"
   ]
  },
  {
   "cell_type": "markdown",
   "id": "95586099",
   "metadata": {
    "papermill": {
     "duration": 0.010111,
     "end_time": "2022-08-19T20:43:04.954180",
     "exception": false,
     "start_time": "2022-08-19T20:43:04.944069",
     "status": "completed"
    },
    "tags": []
   },
   "source": [
    "### Split the data"
   ]
  },
  {
   "cell_type": "code",
   "execution_count": 12,
   "id": "e3ef1646",
   "metadata": {
    "execution": {
     "iopub.execute_input": "2022-08-19T20:43:04.977768Z",
     "iopub.status.busy": "2022-08-19T20:43:04.977000Z",
     "iopub.status.idle": "2022-08-19T20:43:05.050312Z",
     "shell.execute_reply": "2022-08-19T20:43:05.048981Z"
    },
    "papermill": {
     "duration": 0.08804,
     "end_time": "2022-08-19T20:43:05.053310",
     "exception": false,
     "start_time": "2022-08-19T20:43:04.965270",
     "status": "completed"
    },
    "tags": []
   },
   "outputs": [],
   "source": [
    "from sklearn.model_selection import train_test_split\n",
    "\n",
    "X = df2.drop('student_placed', axis=1)\n",
    "y = df2['student_placed']\n",
    "\n",
    "X_train, X_test, y_train, y_test = train_test_split(X, y, random_state=42)"
   ]
  },
  {
   "cell_type": "markdown",
   "id": "32685d6c",
   "metadata": {
    "papermill": {
     "duration": 0.010141,
     "end_time": "2022-08-19T20:43:05.074002",
     "exception": false,
     "start_time": "2022-08-19T20:43:05.063861",
     "status": "completed"
    },
    "tags": []
   },
   "source": [
    "## Impliment Random Forest"
   ]
  },
  {
   "cell_type": "code",
   "execution_count": 13,
   "id": "08ad07aa",
   "metadata": {
    "execution": {
     "iopub.execute_input": "2022-08-19T20:43:05.096686Z",
     "iopub.status.busy": "2022-08-19T20:43:05.095926Z",
     "iopub.status.idle": "2022-08-19T20:43:07.182159Z",
     "shell.execute_reply": "2022-08-19T20:43:07.180639Z"
    },
    "papermill": {
     "duration": 2.100836,
     "end_time": "2022-08-19T20:43:07.185183",
     "exception": false,
     "start_time": "2022-08-19T20:43:05.084347",
     "status": "completed"
    },
    "tags": []
   },
   "outputs": [
    {
     "name": "stdout",
     "output_type": "stream",
     "text": [
      "Accuracy on training is:0.879\n",
      "Accuracy on test is:0.638\n"
     ]
    }
   ],
   "source": [
    "from sklearn.ensemble import RandomForestClassifier\n",
    "\n",
    "rf = RandomForestClassifier(n_estimators = 1000, max_depth=4, random_state=0)\n",
    "\n",
    "rf_model = rf.fit(X_train, y_train)\n",
    "rf_predict = rf_model.predict(X_test)\n",
    "\n",
    "\n",
    "print(\"Accuracy on training is:{:.3f}\".format(rf_model.score(X_train, y_train)))\n",
    "print(\"Accuracy on test is:{:.3f}\".format(rf_model.score(X_test, y_test)))"
   ]
  },
  {
   "cell_type": "markdown",
   "id": "ee0f87fe",
   "metadata": {
    "papermill": {
     "duration": 0.010644,
     "end_time": "2022-08-19T20:43:07.206702",
     "exception": false,
     "start_time": "2022-08-19T20:43:07.196058",
     "status": "completed"
    },
    "tags": []
   },
   "source": [
    "These are not great results, so I will see if Gradient Boosting yields better results."
   ]
  },
  {
   "cell_type": "markdown",
   "id": "2f240832",
   "metadata": {
    "papermill": {
     "duration": 0.009697,
     "end_time": "2022-08-19T20:43:07.227771",
     "exception": false,
     "start_time": "2022-08-19T20:43:07.218074",
     "status": "completed"
    },
    "tags": []
   },
   "source": [
    "## Gradient Boosting w/ sklearn"
   ]
  },
  {
   "cell_type": "code",
   "execution_count": 14,
   "id": "0bb7620b",
   "metadata": {
    "execution": {
     "iopub.execute_input": "2022-08-19T20:43:07.251603Z",
     "iopub.status.busy": "2022-08-19T20:43:07.250876Z",
     "iopub.status.idle": "2022-08-19T20:43:07.349279Z",
     "shell.execute_reply": "2022-08-19T20:43:07.347868Z"
    },
    "papermill": {
     "duration": 0.113296,
     "end_time": "2022-08-19T20:43:07.352124",
     "exception": false,
     "start_time": "2022-08-19T20:43:07.238828",
     "status": "completed"
    },
    "tags": []
   },
   "outputs": [
    {
     "name": "stdout",
     "output_type": "stream",
     "text": [
      "Accuracy on training is:0.931\n",
      "Accuracy on test is:0.759\n"
     ]
    }
   ],
   "source": [
    "from sklearn.ensemble import GradientBoostingClassifier\n",
    "\n",
    "gbc = GradientBoostingClassifier(learning_rate=.03, n_estimators=110, random_state=0)\n",
    "\n",
    "gbc_model = gbc.fit(X_train, y_train)\n",
    "gbc_predict = gbc.predict(X_test)\n",
    "print(\"Accuracy on training is:{:.3f}\".format(gbc_model.score(X_train, y_train)))\n",
    "print(\"Accuracy on test is:{:.3f}\".format(gbc_model.score(X_test, y_test)))"
   ]
  },
  {
   "cell_type": "markdown",
   "id": "5bec38f2",
   "metadata": {
    "papermill": {
     "duration": 0.009933,
     "end_time": "2022-08-19T20:43:07.372558",
     "exception": false,
     "start_time": "2022-08-19T20:43:07.362625",
     "status": "completed"
    },
    "tags": []
   },
   "source": [
    "This result is alright but not great, so I will see if xgboost will yield a better result"
   ]
  },
  {
   "cell_type": "markdown",
   "id": "ea207184",
   "metadata": {
    "papermill": {
     "duration": 0.009886,
     "end_time": "2022-08-19T20:43:07.392792",
     "exception": false,
     "start_time": "2022-08-19T20:43:07.382906",
     "status": "completed"
    },
    "tags": []
   },
   "source": [
    "## Gradient Boosting w/ xgboost"
   ]
  },
  {
   "cell_type": "code",
   "execution_count": 15,
   "id": "67fde958",
   "metadata": {
    "execution": {
     "iopub.execute_input": "2022-08-19T20:43:07.416239Z",
     "iopub.status.busy": "2022-08-19T20:43:07.415037Z",
     "iopub.status.idle": "2022-08-19T20:43:07.597987Z",
     "shell.execute_reply": "2022-08-19T20:43:07.597065Z"
    },
    "papermill": {
     "duration": 0.197713,
     "end_time": "2022-08-19T20:43:07.600699",
     "exception": false,
     "start_time": "2022-08-19T20:43:07.402986",
     "status": "completed"
    },
    "tags": []
   },
   "outputs": [],
   "source": [
    "import xgboost as xgb\n",
    "\n",
    "train = xgb.DMatrix(X_train, label=y_train)\n",
    "test = xgb.DMatrix(X_test, label=y_test)\n",
    "\n",
    "params = {\n",
    "    'max_depth':6,\n",
    "    'eta':0.1,\n",
    "    'objective':'multi:softmax',\n",
    "    'num_class':2\n",
    "    }\n",
    "epochs = 10"
   ]
  },
  {
   "cell_type": "code",
   "execution_count": 16,
   "id": "86bcf441",
   "metadata": {
    "execution": {
     "iopub.execute_input": "2022-08-19T20:43:07.624741Z",
     "iopub.status.busy": "2022-08-19T20:43:07.624278Z",
     "iopub.status.idle": "2022-08-19T20:43:07.679859Z",
     "shell.execute_reply": "2022-08-19T20:43:07.678716Z"
    },
    "papermill": {
     "duration": 0.070964,
     "end_time": "2022-08-19T20:43:07.683585",
     "exception": false,
     "start_time": "2022-08-19T20:43:07.612621",
     "status": "completed"
    },
    "tags": []
   },
   "outputs": [
    {
     "name": "stdout",
     "output_type": "stream",
     "text": [
      "[1. 0. 0. 1. 0. 1. 0. 1. 1. 1. 1. 0. 0. 1. 1. 1. 1. 0. 1. 1. 0. 1. 1. 1.\n",
      " 1. 0. 1. 0. 0. 0. 1. 0. 1. 0. 0. 1. 1. 1. 0. 1. 0. 1. 1. 0. 0. 0. 1. 0.\n",
      " 1. 0. 1. 0. 1. 0. 0. 0. 1. 1.]\n"
     ]
    }
   ],
   "source": [
    "xgb_train = xgb.train(params, test, epochs)\n",
    "xgb_predict = xgb_train.predict(test)\n",
    "print(xgb_predict)"
   ]
  },
  {
   "cell_type": "markdown",
   "id": "ee60798a",
   "metadata": {
    "papermill": {
     "duration": 0.010263,
     "end_time": "2022-08-19T20:43:07.706474",
     "exception": false,
     "start_time": "2022-08-19T20:43:07.696211",
     "status": "completed"
    },
    "tags": []
   },
   "source": [
    "## Conclusions"
   ]
  },
  {
   "cell_type": "code",
   "execution_count": 17,
   "id": "230a9d1a",
   "metadata": {
    "execution": {
     "iopub.execute_input": "2022-08-19T20:43:07.728986Z",
     "iopub.status.busy": "2022-08-19T20:43:07.728525Z",
     "iopub.status.idle": "2022-08-19T20:43:07.737415Z",
     "shell.execute_reply": "2022-08-19T20:43:07.735751Z"
    },
    "papermill": {
     "duration": 0.024115,
     "end_time": "2022-08-19T20:43:07.740915",
     "exception": false,
     "start_time": "2022-08-19T20:43:07.716800",
     "status": "completed"
    },
    "tags": []
   },
   "outputs": [
    {
     "name": "stdout",
     "output_type": "stream",
     "text": [
      "Random Forest accuracy is: 0.638\n",
      "\n",
      "Gradient Boost accuracy is: 0.759\n",
      "\n",
      "xgboost accuracy is: 1.000\n"
     ]
    }
   ],
   "source": [
    "from sklearn.metrics import accuracy_score\n",
    "\n",
    "print('Random Forest accuracy is: {:.3f}'.format(accuracy_score(y_test, rf_predict)))\n",
    "print()\n",
    "print('Gradient Boost accuracy is: {:.3f}'.format(accuracy_score(y_test, gbc_predict)))\n",
    "print()\n",
    "print('xgboost accuracy is: {:.3f}'.format(accuracy_score(y_test, xgb_predict)))"
   ]
  }
 ],
 "metadata": {
  "kernelspec": {
   "display_name": "Python 3",
   "language": "python",
   "name": "python3"
  },
  "language_info": {
   "codemirror_mode": {
    "name": "ipython",
    "version": 3
   },
   "file_extension": ".py",
   "mimetype": "text/x-python",
   "name": "python",
   "nbconvert_exporter": "python",
   "pygments_lexer": "ipython3",
   "version": "3.7.12"
  },
  "papermill": {
   "default_parameters": {},
   "duration": 17.527292,
   "end_time": "2022-08-19T20:43:08.575233",
   "environment_variables": {},
   "exception": null,
   "input_path": "__notebook__.ipynb",
   "output_path": "__notebook__.ipynb",
   "parameters": {},
   "start_time": "2022-08-19T20:42:51.047941",
   "version": "2.3.4"
  }
 },
 "nbformat": 4,
 "nbformat_minor": 5
}
